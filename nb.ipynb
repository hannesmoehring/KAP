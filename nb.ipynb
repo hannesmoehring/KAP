{
 "cells": [
  {
   "cell_type": "code",
   "execution_count": 1,
   "id": "44a750cf",
   "metadata": {},
   "outputs": [],
   "source": [
    "import pandas as pd\n",
    "import numpy as np\n",
    "from testing_kap import test_util\n",
    "from utility import *\n",
    "from utility_temp import *\n",
    "from utility_vc import *\n",
    "from utility_comp import *"
   ]
  },
  {
   "cell_type": "code",
   "execution_count": 2,
   "id": "586764dc",
   "metadata": {},
   "outputs": [
    {
     "data": {
      "application/vnd.microsoft.datawrangler.viewer.v0+json": {
       "columns": [
        {
         "name": "index",
         "rawType": "int64",
         "type": "integer"
        },
        {
         "name": "GBDAT_EXP_ADD",
         "rawType": "object",
         "type": "unknown"
        },
        {
         "name": "GSCHL_EXP_ADD",
         "rawType": "object",
         "type": "unknown"
        },
        {
         "name": "ZNLMSVEDPY",
         "rawType": "object",
         "type": "unknown"
        },
        {
         "name": "ZNLMSVAEDA",
         "rawType": "object",
         "type": "unknown"
        }
       ],
       "ref": "e225991a-9eaf-4417-b287-9d22eefed1f5",
       "rows": [
        [
         "0",
         "23.06.1965",
         "w",
         "9c",
         "21.04.1990"
        ],
        [
         "1",
         "02.08.1980",
         "m",
         null,
         "05.10.2014"
        ],
        [
         "2",
         "31.12.1973",
         "w",
         "4c",
         "26.07.2016"
        ],
        [
         "3",
         "19.08.2006",
         "m",
         "1",
         null
        ],
        [
         "4",
         "29.09.1970",
         "w",
         "2",
         "20.11.2017"
        ],
        [
         "5",
         "27.08.1919",
         "w",
         "9",
         "11.02.2013"
        ],
        [
         "6",
         null,
         "w",
         "1",
         "24.02.2011"
        ],
        [
         "7",
         "12.08.1982",
         null,
         "unknown",
         "26.07.1998"
        ],
        [
         "8",
         "32.13.2020",
         "w",
         "4c",
         "18.07.2021"
        ],
        [
         "9",
         "04.06.2020",
         "invalid",
         "1",
         null
        ],
        [
         "10",
         "09.08.1979",
         "w",
         "5b",
         "16.01.1958"
        ],
        [
         "11",
         "16.12.1893",
         "fw",
         null,
         "32.13.2020"
        ],
        [
         "12",
         "03.06.1964",
         "w",
         "4b",
         "10.04.1994"
        ],
        [
         "13",
         "03.10.2024",
         "w",
         "5b",
         "26.09.1973"
        ],
        [
         "14",
         "02.05.2003",
         "m",
         "4c",
         "07.09.1961"
        ],
        [
         "15",
         "15.05.1968",
         "w",
         "unknown",
         "06.04.1985"
        ],
        [
         "16",
         "31.03.1989",
         "m",
         "5a",
         "21.06.2010"
        ],
        [
         "17",
         "32.13.2020",
         "w",
         "5a",
         "05.01.2019"
        ],
        [
         "18",
         "06.10.1977",
         null,
         "4a",
         "14.03.1964"
        ],
        [
         "19",
         "20.03.2007",
         "m",
         null,
         "22.12.1960"
        ],
        [
         "20",
         "32.13.2020",
         "m",
         "9c",
         "20.12.1990"
        ],
        [
         "21",
         null,
         "w",
         "unknown",
         "11.03.1966"
        ],
        [
         "22",
         "19.10.1969",
         "w",
         "0",
         "30.07.2007"
        ],
        [
         "23",
         "32.13.2020",
         null,
         "4b",
         "29.07.1957"
        ],
        [
         "24",
         "05.09.1977",
         "m",
         "9c",
         "28.12.1969"
        ],
        [
         "25",
         "25.04.1978",
         "fw",
         "4c",
         "28.04.1973"
        ],
        [
         "26",
         "04.04.1952",
         "w",
         "1c",
         "17.06.2018"
        ],
        [
         "27",
         "24.10.1978",
         "w",
         "4c",
         "11.03.2018"
        ],
        [
         "28",
         "29.03.2037",
         "m",
         "5b",
         "05.03.2023"
        ],
        [
         "29",
         "17.04.1996",
         "w",
         "0",
         "18.02.2023"
        ],
        [
         "30",
         "18.09.1954",
         "w",
         "4b",
         "12.06.2023"
        ],
        [
         "31",
         "04.11.2014",
         "invalid",
         "3a",
         "07.08.1984"
        ],
        [
         "32",
         "32.13.2020",
         "m",
         "9",
         "11.10.2016"
        ],
        [
         "33",
         "20.08.2022",
         "w",
         "2",
         "27.08.1980"
        ],
        [
         "34",
         "27.01.1963",
         "invalid",
         null,
         null
        ],
        [
         "35",
         "22.10.1951",
         "invalid",
         "1c",
         "25.02.1978"
        ],
        [
         "36",
         "22.05.2011",
         "m",
         "0",
         "07.08.1970"
        ],
        [
         "37",
         "03.02.1990",
         "m",
         "unknown",
         "11.02.2008"
        ],
        [
         "38",
         "32.13.2020",
         "m",
         "3a",
         "13.06.1958"
        ],
        [
         "39",
         null,
         "w",
         "9c",
         "09.01.1960"
        ],
        [
         "40",
         "30.05.1992",
         "w",
         "2",
         "07.05.1831"
        ],
        [
         "41",
         "23.02.1983",
         "w",
         "1c",
         "02.09.2024"
        ],
        [
         "42",
         "22.02.1969",
         "w",
         "5b",
         "12.10.1962"
        ],
        [
         "43",
         "15.02.1950",
         "m",
         "5a",
         "18.07.1950"
        ],
        [
         "44",
         "09.08.1988",
         "m",
         "1",
         "28.05.1965"
        ],
        [
         "45",
         "11.10.2021",
         "w",
         "1c",
         "26.10.2017"
        ],
        [
         "46",
         null,
         "m",
         "1",
         "10.07.1950"
        ],
        [
         "47",
         "17.09.2015",
         "m",
         "5c",
         "06.09.2009"
        ],
        [
         "48",
         "02.04.2010",
         "w",
         "1c",
         "30.10.1954"
        ],
        [
         "49",
         "04.07.1970",
         "m",
         "0",
         "07.10.1977"
        ]
       ],
       "shape": {
        "columns": 4,
        "rows": 1000
       }
      },
      "text/html": [
       "<div>\n",
       "<style scoped>\n",
       "    .dataframe tbody tr th:only-of-type {\n",
       "        vertical-align: middle;\n",
       "    }\n",
       "\n",
       "    .dataframe tbody tr th {\n",
       "        vertical-align: top;\n",
       "    }\n",
       "\n",
       "    .dataframe thead th {\n",
       "        text-align: right;\n",
       "    }\n",
       "</style>\n",
       "<table border=\"1\" class=\"dataframe\">\n",
       "  <thead>\n",
       "    <tr style=\"text-align: right;\">\n",
       "      <th></th>\n",
       "      <th>GBDAT_EXP_ADD</th>\n",
       "      <th>GSCHL_EXP_ADD</th>\n",
       "      <th>ZNLMSVEDPY</th>\n",
       "      <th>ZNLMSVAEDA</th>\n",
       "    </tr>\n",
       "  </thead>\n",
       "  <tbody>\n",
       "    <tr>\n",
       "      <th>0</th>\n",
       "      <td>23.06.1965</td>\n",
       "      <td>w</td>\n",
       "      <td>9c</td>\n",
       "      <td>21.04.1990</td>\n",
       "    </tr>\n",
       "    <tr>\n",
       "      <th>1</th>\n",
       "      <td>02.08.1980</td>\n",
       "      <td>m</td>\n",
       "      <td>NaN</td>\n",
       "      <td>05.10.2014</td>\n",
       "    </tr>\n",
       "    <tr>\n",
       "      <th>2</th>\n",
       "      <td>31.12.1973</td>\n",
       "      <td>w</td>\n",
       "      <td>4c</td>\n",
       "      <td>26.07.2016</td>\n",
       "    </tr>\n",
       "    <tr>\n",
       "      <th>3</th>\n",
       "      <td>19.08.2006</td>\n",
       "      <td>m</td>\n",
       "      <td>1</td>\n",
       "      <td>NaN</td>\n",
       "    </tr>\n",
       "    <tr>\n",
       "      <th>4</th>\n",
       "      <td>29.09.1970</td>\n",
       "      <td>w</td>\n",
       "      <td>2</td>\n",
       "      <td>20.11.2017</td>\n",
       "    </tr>\n",
       "    <tr>\n",
       "      <th>...</th>\n",
       "      <td>...</td>\n",
       "      <td>...</td>\n",
       "      <td>...</td>\n",
       "      <td>...</td>\n",
       "    </tr>\n",
       "    <tr>\n",
       "      <th>995</th>\n",
       "      <td>11.04.2018</td>\n",
       "      <td>m</td>\n",
       "      <td>5c</td>\n",
       "      <td>32.13.2020</td>\n",
       "    </tr>\n",
       "    <tr>\n",
       "      <th>996</th>\n",
       "      <td>13.04.2008</td>\n",
       "      <td>m</td>\n",
       "      <td>9c</td>\n",
       "      <td>22.11.1996</td>\n",
       "    </tr>\n",
       "    <tr>\n",
       "      <th>997</th>\n",
       "      <td>15.06.1954</td>\n",
       "      <td>fw</td>\n",
       "      <td>4b</td>\n",
       "      <td>17.10.2003</td>\n",
       "    </tr>\n",
       "    <tr>\n",
       "      <th>998</th>\n",
       "      <td>NaN</td>\n",
       "      <td>m</td>\n",
       "      <td>1</td>\n",
       "      <td>03.06.2008</td>\n",
       "    </tr>\n",
       "    <tr>\n",
       "      <th>999</th>\n",
       "      <td>12.08.2002</td>\n",
       "      <td>NaN</td>\n",
       "      <td>4b</td>\n",
       "      <td>07.03.1953</td>\n",
       "    </tr>\n",
       "  </tbody>\n",
       "</table>\n",
       "<p>1000 rows × 4 columns</p>\n",
       "</div>"
      ],
      "text/plain": [
       "    GBDAT_EXP_ADD GSCHL_EXP_ADD ZNLMSVEDPY  ZNLMSVAEDA\n",
       "0      23.06.1965             w         9c  21.04.1990\n",
       "1      02.08.1980             m        NaN  05.10.2014\n",
       "2      31.12.1973             w         4c  26.07.2016\n",
       "3      19.08.2006             m          1         NaN\n",
       "4      29.09.1970             w          2  20.11.2017\n",
       "..            ...           ...        ...         ...\n",
       "995    11.04.2018             m         5c  32.13.2020\n",
       "996    13.04.2008             m         9c  22.11.1996\n",
       "997    15.06.1954            fw         4b  17.10.2003\n",
       "998           NaN             m          1  03.06.2008\n",
       "999    12.08.2002           NaN         4b  07.03.1953\n",
       "\n",
       "[1000 rows x 4 columns]"
      ]
     },
     "execution_count": 2,
     "metadata": {},
     "output_type": "execute_result"
    }
   ],
   "source": [
    "df = test_util.routine()\n",
    "df"
   ]
  },
  {
   "cell_type": "code",
   "execution_count": 3,
   "id": "93e79e2b",
   "metadata": {},
   "outputs": [
    {
     "data": {
      "text/plain": [
       "ResponseVCStr(outside=np.int64(114), missing=np.int64(32), total=1000, bad_id_list=[12, 27, 30, 48, 49, 55, 64, 78, 80, 100, 101, 108, 111, 117, 118, 127, 136, 140, 146, 149, 184, 187, 227, 240, 247, 248, 258, 261, 262, 264, 274, 279, 296, 303, 305, 320, 359, 360, 372, 375, 376, 379, 396, 402, 409, 413, 432, 447, 448, 453, 455, 459, 465, 467, 472, 475, 479, 480, 496, 509, 514, 518, 522, 524, 536, 541, 543, 549, 550, 561, 563, 567, 571, 574, 576, 591, 607, 612, 615, 616, 620, 626, 629, 637, 664, 666, 668, 680, 686, 690, 694, 699, 700, 704, 708, 719, 721, 740, 743, 747, 749, 756, 764, 765, 769, 770, 774, 786, 789, 790, 793, 794, 797, 802, 808, 810, 811, 815, 816, 818, 820, 823, 829, 848, 853, 855, 861, 871, 881, 882, 889, 890, 893, 895, 897, 914, 917, 925, 926, 930, 945, 959, 969, 982, 995, 998])"
      ]
     },
     "execution_count": 3,
     "metadata": {},
     "output_type": "execute_result"
    }
   ],
   "source": [
    "data_gender = check_value_conformance_string(\"GSCHL_EXP_ADD\", [\"w\", \"m\"], df)\n",
    "data_gender"
   ]
  },
  {
   "cell_type": "code",
   "execution_count": 4,
   "id": "a519ae42",
   "metadata": {},
   "outputs": [
    {
     "name": "stderr",
     "output_type": "stream",
     "text": [
      "/Users/hannesmoehring/Documents/University/SEM6/KAP/dev/v1/utility_vc.py:86: UserWarning: Parsing dates in %d.%m.%Y format when dayfirst=False (the default) was specified. Pass `dayfirst=True` or specify a format to silence this warning.\n",
      "  data = pd.to_datetime(df[col], errors=\"coerce\")\n"
     ]
    },
    {
     "ename": "TypeError",
     "evalue": "__init__() missing 1 required positional argument: 'missing'",
     "output_type": "error",
     "traceback": [
      "\u001b[0;31m---------------------------------------------------------------------------\u001b[0m",
      "\u001b[0;31mTypeError\u001b[0m                                 Traceback (most recent call last)",
      "Cell \u001b[0;32mIn[4], line 1\u001b[0m\n\u001b[0;32m----> 1\u001b[0m data_dbdat \u001b[38;5;241m=\u001b[39m \u001b[43mcheck_value_conformance_temporal\u001b[49m\u001b[43m(\u001b[49m\u001b[38;5;124;43m\"\u001b[39;49m\u001b[38;5;124;43mGBDAT_EXP_ADD\u001b[39;49m\u001b[38;5;124;43m\"\u001b[39;49m\u001b[43m,\u001b[49m\u001b[43m \u001b[49m\u001b[43mdf\u001b[49m\u001b[43m,\u001b[49m\u001b[43m \u001b[49m\u001b[43mpd\u001b[49m\u001b[38;5;241;43m.\u001b[39;49m\u001b[43mTimestamp\u001b[49m\u001b[43m(\u001b[49m\u001b[38;5;124;43m\"\u001b[39;49m\u001b[38;5;124;43m01.01.1920\u001b[39;49m\u001b[38;5;124;43m\"\u001b[39;49m\u001b[43m)\u001b[49m\u001b[43m,\u001b[49m\u001b[43m \u001b[49m\u001b[43mpd\u001b[49m\u001b[38;5;241;43m.\u001b[39;49m\u001b[43mTimestamp\u001b[49m\u001b[43m(\u001b[49m\u001b[38;5;124;43m\"\u001b[39;49m\u001b[38;5;124;43m01.06.2025\u001b[39;49m\u001b[38;5;124;43m\"\u001b[39;49m\u001b[43m)\u001b[49m\u001b[43m)\u001b[49m\n\u001b[1;32m      2\u001b[0m data_dbdat\n",
      "File \u001b[0;32m~/Documents/University/SEM6/KAP/dev/v1/utility_vc.py:108\u001b[0m, in \u001b[0;36mcheck_value_conformance_temporal\u001b[0;34m(col, df, min_date, max_date, inclusive, allow_na)\u001b[0m\n\u001b[1;32m    104\u001b[0m     bad_mask \u001b[38;5;241m=\u001b[39m \u001b[38;5;241m~\u001b[39min_range_mask\n\u001b[1;32m    106\u001b[0m bad_rows \u001b[38;5;241m=\u001b[39m df\u001b[38;5;241m.\u001b[39mindex[bad_mask]\u001b[38;5;241m.\u001b[39mtolist()\n\u001b[0;32m--> 108\u001b[0m \u001b[38;5;28;01mreturn\u001b[39;00m \u001b[43mResponseVCDate\u001b[49m\u001b[43m(\u001b[49m\u001b[43mbefore\u001b[49m\u001b[38;5;241;43m=\u001b[39;49m\u001b[43mbefore_mask\u001b[49m\u001b[38;5;241;43m.\u001b[39;49m\u001b[43msum\u001b[49m\u001b[43m(\u001b[49m\u001b[43m)\u001b[49m\u001b[43m,\u001b[49m\u001b[43m \u001b[49m\u001b[43mafter\u001b[49m\u001b[38;5;241;43m=\u001b[39;49m\u001b[43mafter_mask\u001b[49m\u001b[38;5;241;43m.\u001b[39;49m\u001b[43msum\u001b[49m\u001b[43m(\u001b[49m\u001b[43m)\u001b[49m\u001b[43m,\u001b[49m\u001b[43m \u001b[49m\u001b[43mtotal\u001b[49m\u001b[38;5;241;43m=\u001b[39;49m\u001b[38;5;28;43mlen\u001b[39;49m\u001b[43m(\u001b[49m\u001b[43mdata\u001b[49m\u001b[43m)\u001b[49m\u001b[43m,\u001b[49m\u001b[43m \u001b[49m\u001b[43mbad_id_list\u001b[49m\u001b[38;5;241;43m=\u001b[39;49m\u001b[43mbad_rows\u001b[49m\u001b[43m)\u001b[49m\n",
      "\u001b[0;31mTypeError\u001b[0m: __init__() missing 1 required positional argument: 'missing'"
     ]
    }
   ],
   "source": [
    "data_dbdat = check_value_conformance_temporal(\"GBDAT_EXP_ADD\", df, pd.Timestamp(\"01.01.1920\"), pd.Timestamp(\"01.06.2025\"))\n",
    "data_dbdat"
   ]
  },
  {
   "cell_type": "code",
   "execution_count": 5,
   "id": "3693f9cf",
   "metadata": {},
   "outputs": [
    {
     "data": {
      "text/plain": [
       "ResponseVCDateOrder(earlier=np.int64(368), missing=np.int64(251), total=1000, bad_id_list=[1, 3, 6, 7, 10, 12, 13, 14, 15, 16, 17, 21, 23, 24, 26, 27, 28, 29, 30, 34, 39, 40, 41, 42, 44, 45, 46, 51, 54, 55, 56, 57, 58, 59, 60, 61, 62, 63, 64, 65, 67, 68, 70, 72, 73, 74, 75, 76, 78, 79, 82, 84, 85, 86, 87, 91, 92, 93, 96, 98, 100, 102, 103, 105, 106, 107, 109, 110, 112, 113, 116, 120, 122, 124, 125, 126, 127, 128, 129, 130, 131, 132, 133, 134, 139, 140, 143, 145, 146, 147, 148, 149, 153, 154, 155, 156, 157, 158, 159, 160, 161, 164, 166, 167, 168, 169, 170, 171, 172, 173, 175, 177, 179, 181, 183, 184, 185, 187, 189, 190, 193, 194, 195, 196, 197, 198, 200, 201, 202, 205, 206, 209, 210, 213, 214, 215, 216, 218, 220, 221, 222, 227, 228, 229, 231, 232, 234, 236, 237, 239, 240, 241, 245, 248, 249, 250, 251, 254, 255, 256, 257, 258, 259, 260, 262, 263, 264, 267, 268, 269, 270, 271, 273, 275, 276, 277, 279, 281, 282, 283, 284, 285, 286, 288, 291, 293, 294, 295, 299, 300, 301, 304, 305, 307, 309, 310, 311, 312, 313, 314, 316, 317, 318, 320, 321, 323, 324, 326, 327, 328, 330, 331, 332, 334, 335, 336, 338, 339, 340, 342, 343, 345, 347, 349, 350, 351, 352, 354, 358, 359, 360, 361, 362, 363, 364, 365, 367, 368, 369, 371, 373, 374, 375, 376, 378, 379, 380, 381, 382, 383, 385, 386, 387, 390, 391, 392, 395, 397, 398, 399, 400, 401, 404, 406, 407, 408, 412, 413, 415, 416, 417, 418, 421, 424, 426, 428, 429, 430, 431, 432, 433, 434, 435, 436, 438, 440, 441, 442, 444, 445, 446, 447, 448, 449, 453, 456, 458, 459, 460, 461, 462, 466, 467, 471, 473, 478, 480, 482, 484, 485, 487, 489, 490, 492, 493, 497, 498, 500, 501, 503, 504, 505, 506, 507, 508, 509, 512, 513, 515, 517, 518, 519, 520, 521, 522, 524, 525, 527, 530, 531, 532, 533, 535, 536, 537, 538, 539, 540, 541, 542, 544, 545, 547, 548, 549, 553, 554, 556, 557, 562, 563, 566, 567, 568, 569, 571, 572, 575, 576, 578, 579, 580, 581, 584, 587, 589, 590, 593, 594, 597, 598, 600, 601, 602, 604, 605, 607, 609, 611, 612, 613, 614, 615, 616, 617, 618, 619, 620, 621, 623, 626, 627, 628, 629, 630, 631, 633, 635, 636, 639, 641, 643, 644, 646, 649, 650, 652, 653, 654, 655, 656, 657, 658, 659, 662, 663, 664, 665, 666, 668, 675, 676, 679, 681, 682, 686, 687, 688, 689, 691, 692, 694, 696, 698, 700, 705, 707, 712, 713, 714, 715, 719, 720, 722, 723, 727, 728, 729, 730, 731, 734, 735, 736, 738, 741, 743, 746, 748, 749, 752, 755, 756, 759, 760, 761, 763, 765, 766, 767, 768, 769, 771, 773, 775, 776, 778, 780, 784, 785, 788, 789, 790, 792, 793, 794, 795, 796, 797, 798, 799, 801, 802, 804, 805, 808, 812, 813, 814, 816, 817, 820, 821, 823, 824, 826, 827, 829, 830, 832, 836, 837, 842, 844, 845, 846, 848, 850, 852, 853, 855, 858, 859, 861, 862, 863, 865, 866, 867, 868, 870, 872, 873, 874, 875, 876, 877, 878, 880, 881, 882, 884, 886, 887, 890, 891, 892, 895, 897, 898, 899, 900, 901, 903, 907, 908, 909, 913, 914, 915, 916, 917, 918, 920, 924, 926, 927, 928, 930, 931, 935, 936, 938, 939, 940, 942, 943, 945, 946, 948, 950, 951, 952, 954, 956, 957, 958, 959, 960, 963, 964, 967, 968, 969, 970, 972, 973, 974, 976, 977, 986, 988, 991, 992, 994, 995, 996, 997, 998, 999])"
      ]
     },
     "execution_count": 5,
     "metadata": {},
     "output_type": "execute_result"
    }
   ],
   "source": [
    "data_order_gbdat_checkin = check_temporal_order_plausibility(\"GBDAT_EXP_ADD\", \"ZNLMSVAEDA\", df)\n",
    "data_order_gbdat_checkin"
   ]
  },
  {
   "cell_type": "code",
   "execution_count": 6,
   "id": "1cc5589f",
   "metadata": {},
   "outputs": [
    {
     "ename": "NameError",
     "evalue": "name 'data_dbdat' is not defined",
     "output_type": "error",
     "traceback": [
      "\u001b[0;31m---------------------------------------------------------------------------\u001b[0m",
      "\u001b[0;31mNameError\u001b[0m                                 Traceback (most recent call last)",
      "Cell \u001b[0;32mIn[6], line 4\u001b[0m\n\u001b[1;32m      1\u001b[0m bad_rows \u001b[38;5;241m=\u001b[39m \u001b[38;5;28mset\u001b[39m()\n\u001b[1;32m      3\u001b[0m bad_rows\u001b[38;5;241m.\u001b[39mupdate(data_gender\u001b[38;5;241m.\u001b[39mbad_id_list)\n\u001b[0;32m----> 4\u001b[0m bad_rows\u001b[38;5;241m.\u001b[39mupdate(\u001b[43mdata_dbdat\u001b[49m\u001b[38;5;241m.\u001b[39mbad_id_list)\n\u001b[1;32m      5\u001b[0m bad_rows\u001b[38;5;241m.\u001b[39mupdate(data_order_gbdat_checkin\u001b[38;5;241m.\u001b[39mbad_id_list)\n\u001b[1;32m      7\u001b[0m valid_df, invalid_df \u001b[38;5;241m=\u001b[39m split_by_index(df, \u001b[38;5;28mlist\u001b[39m(bad_rows))\n",
      "\u001b[0;31mNameError\u001b[0m: name 'data_dbdat' is not defined"
     ]
    }
   ],
   "source": [
    "bad_rows = set()\n",
    "\n",
    "bad_rows.update(data_gender.bad_id_list)\n",
    "bad_rows.update(data_dbdat.bad_id_list)\n",
    "bad_rows.update(data_order_gbdat_checkin.bad_id_list)\n",
    "\n",
    "valid_df, invalid_df = split_by_index(df, list(bad_rows))"
   ]
  },
  {
   "cell_type": "code",
   "execution_count": 7,
   "id": "720a2749",
   "metadata": {},
   "outputs": [
    {
     "ename": "NameError",
     "evalue": "name 'valid_df' is not defined",
     "output_type": "error",
     "traceback": [
      "\u001b[0;31m---------------------------------------------------------------------------\u001b[0m",
      "\u001b[0;31mNameError\u001b[0m                                 Traceback (most recent call last)",
      "Cell \u001b[0;32mIn[7], line 1\u001b[0m\n\u001b[0;32m----> 1\u001b[0m \u001b[43mvalid_df\u001b[49m\n",
      "\u001b[0;31mNameError\u001b[0m: name 'valid_df' is not defined"
     ]
    }
   ],
   "source": [
    "valid_df"
   ]
  },
  {
   "cell_type": "code",
   "execution_count": 8,
   "id": "222112b7",
   "metadata": {},
   "outputs": [
    {
     "ename": "KeyError",
     "evalue": "'ZNLMSVAGRO'",
     "output_type": "error",
     "traceback": [
      "\u001b[0;31m---------------------------------------------------------------------------\u001b[0m",
      "\u001b[0;31mKeyError\u001b[0m                                  Traceback (most recent call last)",
      "File \u001b[0;32m~/.pyenv/versions/KAP/lib/python3.9/site-packages/pandas/core/indexes/base.py:3812\u001b[0m, in \u001b[0;36mIndex.get_loc\u001b[0;34m(self, key)\u001b[0m\n\u001b[1;32m   3811\u001b[0m \u001b[38;5;28;01mtry\u001b[39;00m:\n\u001b[0;32m-> 3812\u001b[0m     \u001b[38;5;28;01mreturn\u001b[39;00m \u001b[38;5;28;43mself\u001b[39;49m\u001b[38;5;241;43m.\u001b[39;49m\u001b[43m_engine\u001b[49m\u001b[38;5;241;43m.\u001b[39;49m\u001b[43mget_loc\u001b[49m\u001b[43m(\u001b[49m\u001b[43mcasted_key\u001b[49m\u001b[43m)\u001b[49m\n\u001b[1;32m   3813\u001b[0m \u001b[38;5;28;01mexcept\u001b[39;00m \u001b[38;5;167;01mKeyError\u001b[39;00m \u001b[38;5;28;01mas\u001b[39;00m err:\n",
      "File \u001b[0;32mpandas/_libs/index.pyx:167\u001b[0m, in \u001b[0;36mpandas._libs.index.IndexEngine.get_loc\u001b[0;34m()\u001b[0m\n",
      "File \u001b[0;32mpandas/_libs/index.pyx:196\u001b[0m, in \u001b[0;36mpandas._libs.index.IndexEngine.get_loc\u001b[0;34m()\u001b[0m\n",
      "File \u001b[0;32mpandas/_libs/hashtable_class_helper.pxi:7088\u001b[0m, in \u001b[0;36mpandas._libs.hashtable.PyObjectHashTable.get_item\u001b[0;34m()\u001b[0m\n",
      "File \u001b[0;32mpandas/_libs/hashtable_class_helper.pxi:7096\u001b[0m, in \u001b[0;36mpandas._libs.hashtable.PyObjectHashTable.get_item\u001b[0;34m()\u001b[0m\n",
      "\u001b[0;31mKeyError\u001b[0m: 'ZNLMSVAGRO'",
      "\nThe above exception was the direct cause of the following exception:\n",
      "\u001b[0;31mKeyError\u001b[0m                                  Traceback (most recent call last)",
      "Cell \u001b[0;32mIn[8], line 1\u001b[0m\n\u001b[0;32m----> 1\u001b[0m \u001b[43mcheck_computational_conformance_bmi\u001b[49m\u001b[43m(\u001b[49m\u001b[43mdf\u001b[49m\u001b[43m)\u001b[49m\n",
      "File \u001b[0;32m~/Documents/University/SEM6/KAP/dev/v1/utility_comp.py:9\u001b[0m, in \u001b[0;36mcheck_computational_conformance_bmi\u001b[0;34m(df, error, allow_na)\u001b[0m\n\u001b[1;32m      8\u001b[0m \u001b[38;5;28;01mdef\u001b[39;00m\u001b[38;5;250m \u001b[39m\u001b[38;5;21mcheck_computational_conformance_bmi\u001b[39m(df: pd\u001b[38;5;241m.\u001b[39mDataFrame, error: \u001b[38;5;28mfloat\u001b[39m \u001b[38;5;241m=\u001b[39m \u001b[38;5;241m0.1\u001b[39m, allow_na\u001b[38;5;241m=\u001b[39m\u001b[38;5;28;01mFalse\u001b[39;00m):\n\u001b[0;32m----> 9\u001b[0m     height: \u001b[38;5;28mfloat\u001b[39m \u001b[38;5;241m=\u001b[39m pd\u001b[38;5;241m.\u001b[39mto_numeric(\u001b[43mdf\u001b[49m\u001b[43m[\u001b[49m\u001b[38;5;124;43m\"\u001b[39;49m\u001b[38;5;124;43mZNLMSVAGRO\u001b[39;49m\u001b[38;5;124;43m\"\u001b[39;49m\u001b[43m]\u001b[49m, errors\u001b[38;5;241m=\u001b[39m\u001b[38;5;124m\"\u001b[39m\u001b[38;5;124mcoerce\u001b[39m\u001b[38;5;124m\"\u001b[39m) \u001b[38;5;241m/\u001b[39m \u001b[38;5;241m100\u001b[39m\n\u001b[1;32m     10\u001b[0m     weight: \u001b[38;5;28mfloat\u001b[39m \u001b[38;5;241m=\u001b[39m pd\u001b[38;5;241m.\u001b[39mto_numeric(df[\u001b[38;5;124m\"\u001b[39m\u001b[38;5;124mZNLMSVAGEW\u001b[39m\u001b[38;5;124m\"\u001b[39m], errors\u001b[38;5;241m=\u001b[39m\u001b[38;5;124m\"\u001b[39m\u001b[38;5;124mcoerce\u001b[39m\u001b[38;5;124m\"\u001b[39m)\n\u001b[1;32m     11\u001b[0m     bmi: \u001b[38;5;28mfloat\u001b[39m \u001b[38;5;241m=\u001b[39m pd\u001b[38;5;241m.\u001b[39mto_numeric(df[\u001b[38;5;124m\"\u001b[39m\u001b[38;5;124mZNLMSVABMI\u001b[39m\u001b[38;5;124m\"\u001b[39m], errors\u001b[38;5;241m=\u001b[39m\u001b[38;5;124m\"\u001b[39m\u001b[38;5;124mcoerce\u001b[39m\u001b[38;5;124m\"\u001b[39m)\n",
      "File \u001b[0;32m~/.pyenv/versions/KAP/lib/python3.9/site-packages/pandas/core/frame.py:4107\u001b[0m, in \u001b[0;36mDataFrame.__getitem__\u001b[0;34m(self, key)\u001b[0m\n\u001b[1;32m   4105\u001b[0m \u001b[38;5;28;01mif\u001b[39;00m \u001b[38;5;28mself\u001b[39m\u001b[38;5;241m.\u001b[39mcolumns\u001b[38;5;241m.\u001b[39mnlevels \u001b[38;5;241m>\u001b[39m \u001b[38;5;241m1\u001b[39m:\n\u001b[1;32m   4106\u001b[0m     \u001b[38;5;28;01mreturn\u001b[39;00m \u001b[38;5;28mself\u001b[39m\u001b[38;5;241m.\u001b[39m_getitem_multilevel(key)\n\u001b[0;32m-> 4107\u001b[0m indexer \u001b[38;5;241m=\u001b[39m \u001b[38;5;28;43mself\u001b[39;49m\u001b[38;5;241;43m.\u001b[39;49m\u001b[43mcolumns\u001b[49m\u001b[38;5;241;43m.\u001b[39;49m\u001b[43mget_loc\u001b[49m\u001b[43m(\u001b[49m\u001b[43mkey\u001b[49m\u001b[43m)\u001b[49m\n\u001b[1;32m   4108\u001b[0m \u001b[38;5;28;01mif\u001b[39;00m is_integer(indexer):\n\u001b[1;32m   4109\u001b[0m     indexer \u001b[38;5;241m=\u001b[39m [indexer]\n",
      "File \u001b[0;32m~/.pyenv/versions/KAP/lib/python3.9/site-packages/pandas/core/indexes/base.py:3819\u001b[0m, in \u001b[0;36mIndex.get_loc\u001b[0;34m(self, key)\u001b[0m\n\u001b[1;32m   3814\u001b[0m     \u001b[38;5;28;01mif\u001b[39;00m \u001b[38;5;28misinstance\u001b[39m(casted_key, \u001b[38;5;28mslice\u001b[39m) \u001b[38;5;129;01mor\u001b[39;00m (\n\u001b[1;32m   3815\u001b[0m         \u001b[38;5;28misinstance\u001b[39m(casted_key, abc\u001b[38;5;241m.\u001b[39mIterable)\n\u001b[1;32m   3816\u001b[0m         \u001b[38;5;129;01mand\u001b[39;00m \u001b[38;5;28many\u001b[39m(\u001b[38;5;28misinstance\u001b[39m(x, \u001b[38;5;28mslice\u001b[39m) \u001b[38;5;28;01mfor\u001b[39;00m x \u001b[38;5;129;01min\u001b[39;00m casted_key)\n\u001b[1;32m   3817\u001b[0m     ):\n\u001b[1;32m   3818\u001b[0m         \u001b[38;5;28;01mraise\u001b[39;00m InvalidIndexError(key)\n\u001b[0;32m-> 3819\u001b[0m     \u001b[38;5;28;01mraise\u001b[39;00m \u001b[38;5;167;01mKeyError\u001b[39;00m(key) \u001b[38;5;28;01mfrom\u001b[39;00m\u001b[38;5;250m \u001b[39m\u001b[38;5;21;01merr\u001b[39;00m\n\u001b[1;32m   3820\u001b[0m \u001b[38;5;28;01mexcept\u001b[39;00m \u001b[38;5;167;01mTypeError\u001b[39;00m:\n\u001b[1;32m   3821\u001b[0m     \u001b[38;5;66;03m# If we have a listlike key, _check_indexing_error will raise\u001b[39;00m\n\u001b[1;32m   3822\u001b[0m     \u001b[38;5;66;03m#  InvalidIndexError. Otherwise we fall through and re-raise\u001b[39;00m\n\u001b[1;32m   3823\u001b[0m     \u001b[38;5;66;03m#  the TypeError.\u001b[39;00m\n\u001b[1;32m   3824\u001b[0m     \u001b[38;5;28mself\u001b[39m\u001b[38;5;241m.\u001b[39m_check_indexing_error(key)\n",
      "\u001b[0;31mKeyError\u001b[0m: 'ZNLMSVAGRO'"
     ]
    }
   ],
   "source": [
    "check_computational_conformance_bmi(df)"
   ]
  },
  {
   "cell_type": "code",
   "execution_count": null,
   "id": "b4de9dd1",
   "metadata": {},
   "outputs": [],
   "source": []
  },
  {
   "cell_type": "code",
   "execution_count": null,
   "id": "11b5ad2b",
   "metadata": {},
   "outputs": [],
   "source": []
  }
 ],
 "metadata": {
  "kernelspec": {
   "display_name": "KAP",
   "language": "python",
   "name": "python3"
  },
  "language_info": {
   "codemirror_mode": {
    "name": "ipython",
    "version": 3
   },
   "file_extension": ".py",
   "mimetype": "text/x-python",
   "name": "python",
   "nbconvert_exporter": "python",
   "pygments_lexer": "ipython3",
   "version": "3.9.22"
  }
 },
 "nbformat": 4,
 "nbformat_minor": 5
}
